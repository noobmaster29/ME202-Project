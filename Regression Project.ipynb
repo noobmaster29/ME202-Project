{
 "cells": [
  {
   "cell_type": "markdown",
   "metadata": {},
   "source": [
    "# Results Section"
   ]
  },
  {
   "cell_type": "code",
   "execution_count": 1,
   "metadata": {},
   "outputs": [],
   "source": [
    "import pandas as pd\n",
    "import numpy as np\n",
    "import matplotlib.pyplot as plt"
   ]
  },
  {
   "cell_type": "code",
   "execution_count": 2,
   "metadata": {},
   "outputs": [],
   "source": [
    "df = pd.read_csv('ME202_Full_Data.csv')  # doctest: +SKIP"
   ]
  },
  {
   "cell_type": "markdown",
   "metadata": {},
   "source": [
    "Summary of Data collected:"
   ]
  },
  {
   "cell_type": "code",
   "execution_count": 3,
   "metadata": {},
   "outputs": [
    {
     "name": "stdout",
     "output_type": "stream",
     "text": [
      "<class 'pandas.core.frame.DataFrame'>\n",
      "RangeIndex: 105 entries, 0 to 104\n",
      "Data columns (total 9 columns):\n",
      "Title                      105 non-null object\n",
      "Author_(optional)          105 non-null object\n",
      "Index_Number_(optional)    69 non-null object\n",
      "Year                       104 non-null float64\n",
      "Page_Count                 104 non-null float64\n",
      "Lowest_Price_Amazon        102 non-null object\n",
      "Price_(other)              7 non-null object\n",
      "Price_per_page             102 non-null object\n",
      "Link if hard to find       9 non-null object\n",
      "dtypes: float64(2), object(7)\n",
      "memory usage: 7.5+ KB\n"
     ]
    }
   ],
   "source": [
    "df.info()"
   ]
  },
  {
   "cell_type": "code",
   "execution_count": 4,
   "metadata": {},
   "outputs": [],
   "source": [
    "df_data = df[[\"Title\", \"Page_Count\", \"Lowest_Price_Amazon\"]]\n",
    "df_data = df_data.dropna()\n",
    "df_data = df_data.reset_index(drop=True)\n",
    "df_data.Lowest_Price_Amazon = [x.strip('$') for x in df_data.Lowest_Price_Amazon]\n",
    "#df_data['Lowest_Price_Amazon'] = df_data['Lowest_Price_Amazon'].to_numeric(col)\n",
    "#df.Lowest_Price_Amazon = [x.strip('$') for x in df.Lowest_Price_Amazon] #This should be faster\n",
    "df_data[[\"Page_Count\", \"Lowest_Price_Amazon\"]] =  df_data[[\"Page_Count\", \"Lowest_Price_Amazon\"]].apply(pd.to_numeric)"
   ]
  },
  {
   "cell_type": "markdown",
   "metadata": {},
   "source": [
    "### Data preparation\n",
    "Additional metadata was collected during the data collection process. Only page count and lowest price data is used for regression. These two variables were moved to a new dataframe. The book title was also included in the dataframe for identification purposes. \n",
    "\n",
    "Summary of data in the modifided dataframe:"
   ]
  },
  {
   "cell_type": "code",
   "execution_count": 5,
   "metadata": {},
   "outputs": [
    {
     "name": "stdout",
     "output_type": "stream",
     "text": [
      "<class 'pandas.core.frame.DataFrame'>\n",
      "RangeIndex: 102 entries, 0 to 101\n",
      "Data columns (total 3 columns):\n",
      "Title                  102 non-null object\n",
      "Page_Count             102 non-null float64\n",
      "Lowest_Price_Amazon    102 non-null float64\n",
      "dtypes: float64(2), object(1)\n",
      "memory usage: 2.5+ KB\n"
     ]
    }
   ],
   "source": [
    "df_data.info()"
   ]
  },
  {
   "cell_type": "markdown",
   "metadata": {},
   "source": [
    "The statistics of the 2 variates collected were calculated:"
   ]
  },
  {
   "cell_type": "code",
   "execution_count": 6,
   "metadata": {},
   "outputs": [
    {
     "data": {
      "text/html": [
       "<div>\n",
       "<style scoped>\n",
       "    .dataframe tbody tr th:only-of-type {\n",
       "        vertical-align: middle;\n",
       "    }\n",
       "\n",
       "    .dataframe tbody tr th {\n",
       "        vertical-align: top;\n",
       "    }\n",
       "\n",
       "    .dataframe thead th {\n",
       "        text-align: right;\n",
       "    }\n",
       "</style>\n",
       "<table border=\"1\" class=\"dataframe\">\n",
       "  <thead>\n",
       "    <tr style=\"text-align: right;\">\n",
       "      <th></th>\n",
       "      <th>Page_Count</th>\n",
       "      <th>Lowest_Price_Amazon</th>\n",
       "    </tr>\n",
       "  </thead>\n",
       "  <tbody>\n",
       "    <tr>\n",
       "      <th>count</th>\n",
       "      <td>102.000000</td>\n",
       "      <td>102.000000</td>\n",
       "    </tr>\n",
       "    <tr>\n",
       "      <th>mean</th>\n",
       "      <td>429.764706</td>\n",
       "      <td>111.726569</td>\n",
       "    </tr>\n",
       "    <tr>\n",
       "      <th>std</th>\n",
       "      <td>210.190304</td>\n",
       "      <td>94.924710</td>\n",
       "    </tr>\n",
       "    <tr>\n",
       "      <th>min</th>\n",
       "      <td>138.000000</td>\n",
       "      <td>5.250000</td>\n",
       "    </tr>\n",
       "    <tr>\n",
       "      <th>25%</th>\n",
       "      <td>266.500000</td>\n",
       "      <td>61.405000</td>\n",
       "    </tr>\n",
       "    <tr>\n",
       "      <th>50%</th>\n",
       "      <td>396.500000</td>\n",
       "      <td>97.460000</td>\n",
       "    </tr>\n",
       "    <tr>\n",
       "      <th>75%</th>\n",
       "      <td>544.750000</td>\n",
       "      <td>136.722500</td>\n",
       "    </tr>\n",
       "    <tr>\n",
       "      <th>max</th>\n",
       "      <td>1440.000000</td>\n",
       "      <td>869.560000</td>\n",
       "    </tr>\n",
       "  </tbody>\n",
       "</table>\n",
       "</div>"
      ],
      "text/plain": [
       "        Page_Count  Lowest_Price_Amazon\n",
       "count   102.000000           102.000000\n",
       "mean    429.764706           111.726569\n",
       "std     210.190304            94.924710\n",
       "min     138.000000             5.250000\n",
       "25%     266.500000            61.405000\n",
       "50%     396.500000            97.460000\n",
       "75%     544.750000           136.722500\n",
       "max    1440.000000           869.560000"
      ]
     },
     "execution_count": 6,
     "metadata": {},
     "output_type": "execute_result"
    }
   ],
   "source": [
    "df_data.describe()"
   ]
  },
  {
   "cell_type": "markdown",
   "metadata": {},
   "source": [
    "The correlation coefficient of the 2 variables was calculated: "
   ]
  },
  {
   "cell_type": "code",
   "execution_count": 69,
   "metadata": {},
   "outputs": [
    {
     "data": {
      "text/plain": [
       "0.3117278362392676"
      ]
     },
     "execution_count": 69,
     "metadata": {},
     "output_type": "execute_result"
    }
   ],
   "source": [
    "#Correlation coefficient \n",
    "df_data[\"Page_Count\"].corr(df_data[\"Lowest_Price_Amazon\"])"
   ]
  },
  {
   "cell_type": "markdown",
   "metadata": {},
   "source": [
    "### Plotting the Data\n",
    "Outliers can be identified when comparing relationships between two sets of data. A scatter plot was plotted to help identify any outliers. \n",
    "\n",
    "2 outliers can be clearly seen."
   ]
  },
  {
   "cell_type": "code",
   "execution_count": 70,
   "metadata": {},
   "outputs": [
    {
     "data": {
      "image/png": "[encoded data removed]",
      "text/plain": [
       "<Figure size 1080x432 with 1 Axes>"
      ]
     },
     "metadata": {
      "needs_background": "light"
     },
     "output_type": "display_data"
    }
   ],
   "source": [
    "X = pages = df_data[\"Page_Count\"]\n",
    "Y = price = df_data[\"Lowest_Price_Amazon\"]\n",
    "\n",
    "plt.figure(\"ro\", figsize=(15,6))\n",
    "plt.title(\"Pages vs Price Plot\", fontsize = 20)\n",
    "plt.plot(X, Y, 'ro')\n",
    "plt.xlabel('Number of Pages', fontsize=15)\n",
    "plt.ylabel('Price of book', fontsize = 15)\n",
    "\n",
    "#plt.text(0,-200,\"Figure 1: Pages vs Price Plot\", fontsize = 15)\n",
    "plt.show()"
   ]
  },
  {
   "cell_type": "markdown",
   "metadata": {},
   "source": [
    "### Fitting the regression line\n",
    "A regression line was then fitted on the dataset. The line of best fit was found with the normal equation. \n",
    "\n",
    "The Beta0 and Beta 1 obtained:"
   ]
  },
  {
   "cell_type": "code",
   "execution_count": 9,
   "metadata": {},
   "outputs": [
    {
     "name": "stdout",
     "output_type": "stream",
     "text": [
      "beta0:  [51.22412279]\n",
      "beta1:  [0.1407804]\n"
     ]
    }
   ],
   "source": [
    "\n",
    "X = np.array(X).reshape(-1, 1)  # values converts it into a numpy array\n",
    "Y = np.array(Y).reshape(-1, 1)  # -1 means that calculate the dimension of rows, but have 1 column\n",
    "\n",
    "from numpy.linalg import inv\n",
    "def normal_equation(X, y):  \n",
    "    X_transpose = X.T  \n",
    "    theta = inv(X_transpose.dot(X)).dot(X_transpose).dot(y)  \n",
    "\n",
    "    # normal equation  \n",
    "    # theta_best = (X.T * X)^(-1) * X.T * y  \n",
    "      \n",
    "    return theta # returns a list  \n",
    "\n",
    "X_b = np.c_[np.ones((len(df_data), 1)), X] # set bias term to 1 for each sample  \n",
    "regression_params = normal_equation(X_b, Y)  \n",
    "print(\"beta0: \", regression_params[0])\n",
    "print(\"beta1: \", regression_params[1])\n",
    "\n",
    "\n",
    "\n",
    "#First one is intercept --> each dollar increase in price is associated with an estimated increase in the number of pages of 1.3 pages\n",
    "#Second one is slope --> maybe be interpreted as the predicted value of the response when x = 0. \n",
    "#This interpretation is only relevant when x = 0 is within the range of the values of x from the sample"
   ]
  },
  {
   "cell_type": "code",
   "execution_count": 10,
   "metadata": {},
   "outputs": [],
   "source": [
    "def regression_predictor(regression_params, X):\n",
    "    y_pred = regression_params[1] * X + regression_params[0]\n",
    "    return y_pred"
   ]
  },
  {
   "cell_type": "markdown",
   "metadata": {},
   "source": [
    "The regression line was plotted with the dataset. "
   ]
  },
  {
   "cell_type": "code",
   "execution_count": 73,
   "metadata": {},
   "outputs": [
    {
     "data": {
      "image/png": "[encoded data removed]",
      "text/plain": [
       "<Figure size 1080x432 with 1 Axes>"
      ]
     },
     "metadata": {
      "needs_background": "light"
     },
     "output_type": "display_data"
    }
   ],
   "source": [
    "Y_pred = regression_predictor(regression_params, X)  # make predictions\n",
    "plt.figure(\"ro\", figsize=(15,6))\n",
    "plt.title(\"Regression Line for Pages to Price\", fontsize = 20)\n",
    "#plt.scatter(X, Y)\n",
    "plt.plot(X, Y, 'ro')\n",
    "plt.plot(X, Y_pred, color='blue')\n",
    "plt.xlabel('Number of Pages', fontsize = 15)\n",
    "plt.ylabel('Price of book', fontsize = 15)\n",
    "#plt.text(0,-200,\"Figure 2: Regression Line for Pages vs Price\", fontsize = 15);\n",
    "plt.text(0,-200,\"y = 0.14x + 51.22\", fontsize = 15);\n",
    "\n",
    "\n",
    "plt.show()"
   ]
  },
  {
   "cell_type": "markdown",
   "metadata": {},
   "source": [
    "### Regression Line with outliers removed\n",
    "Since outliers can significantly affect the line of best fit for a dataset, the outliers were removed from the data to explore the effects they have on the regression line."
   ]
  },
  {
   "cell_type": "code",
   "execution_count": 12,
   "metadata": {},
   "outputs": [],
   "source": [
    "#df_data.loc[df_data[\"Page_Count\"] > 1200]"
   ]
  },
  {
   "cell_type": "code",
   "execution_count": 13,
   "metadata": {},
   "outputs": [],
   "source": [
    "#df_data.loc[df_data['Lowest_Price_Amazon'] > 800]"
   ]
  },
  {
   "cell_type": "code",
   "execution_count": 14,
   "metadata": {},
   "outputs": [],
   "source": [
    "#df_data.loc[df_data['Lowest_Price_Amazon'] > 800]\n",
    "y_outlier_index = df_data[df_data['Lowest_Price_Amazon'] > 800].index.item()\n",
    "#print(y_outlier_index)"
   ]
  },
  {
   "cell_type": "code",
   "execution_count": 15,
   "metadata": {},
   "outputs": [],
   "source": [
    "#df_data.loc[df_data[\"Page_Count\"] > 1200]\n",
    "x_outlier_index = df_data[df_data[\"Page_Count\"] > 1200].index.item()\n",
    "#print(x_outlier_index)"
   ]
  },
  {
   "cell_type": "code",
   "execution_count": 58,
   "metadata": {},
   "outputs": [
    {
     "data": {
      "text/html": [
       "<div>\n",
       "<style scoped>\n",
       "    .dataframe tbody tr th:only-of-type {\n",
       "        vertical-align: middle;\n",
       "    }\n",
       "\n",
       "    .dataframe tbody tr th {\n",
       "        vertical-align: top;\n",
       "    }\n",
       "\n",
       "    .dataframe thead th {\n",
       "        text-align: right;\n",
       "    }\n",
       "</style>\n",
       "<table border=\"1\" class=\"dataframe\">\n",
       "  <thead>\n",
       "    <tr style=\"text-align: right;\">\n",
       "      <th></th>\n",
       "      <th>Title</th>\n",
       "      <th>Page_Count</th>\n",
       "      <th>Lowest_Price_Amazon</th>\n",
       "    </tr>\n",
       "  </thead>\n",
       "  <tbody>\n",
       "    <tr>\n",
       "      <th>0</th>\n",
       "      <td>Database System A practical approach to Design...</td>\n",
       "      <td>1440.0</td>\n",
       "      <td>203.95</td>\n",
       "    </tr>\n",
       "    <tr>\n",
       "      <th>1</th>\n",
       "      <td>Advanced Structural Analysis</td>\n",
       "      <td>685.0</td>\n",
       "      <td>869.56</td>\n",
       "    </tr>\n",
       "  </tbody>\n",
       "</table>\n",
       "</div>"
      ],
      "text/plain": [
       "                                               Title  Page_Count  \\\n",
       "0  Database System A practical approach to Design...      1440.0   \n",
       "1                       Advanced Structural Analysis       685.0   \n",
       "\n",
       "   Lowest_Price_Amazon  \n",
       "0               203.95  \n",
       "1               869.56  "
      ]
     },
     "execution_count": 58,
     "metadata": {},
     "output_type": "execute_result"
    }
   ],
   "source": [
    "#Outliers are saved in a seperate dataframe for plotting later\n",
    "outliers = pd.DataFrame(columns=df_data.columns)\n",
    "row1 = df_data.iloc[x_outlier_index]\n",
    "row2 = df_data.iloc[y_outlier_index]\n",
    "outliers = outliers.append(row1, ignore_index=True)\n",
    "outliers = outliers.append(row2, ignore_index=True)\n",
    "\n",
    "outliers"
   ]
  },
  {
   "cell_type": "code",
   "execution_count": 17,
   "metadata": {},
   "outputs": [],
   "source": [
    "#Remove obvious outliers \n",
    "df_data_no_outliers = df_data\n",
    "df_data_no_outliers = df_data_no_outliers.drop(df_data.index[y_outlier_index])\n",
    "df_data_no_outliers = df_data_no_outliers.drop(df_data.index[x_outlier_index])\n",
    "df_data_no_outliers = df_data_no_outliers.reset_index(drop=True)\n",
    "#df_data_no_outliers.head()"
   ]
  },
  {
   "cell_type": "markdown",
   "metadata": {},
   "source": [
    "The correlation coefficient was recalculated. "
   ]
  },
  {
   "cell_type": "code",
   "execution_count": 18,
   "metadata": {},
   "outputs": [
    {
     "data": {
      "text/plain": [
       "0.31901743648981046"
      ]
     },
     "execution_count": 18,
     "metadata": {},
     "output_type": "execute_result"
    }
   ],
   "source": [
    "#Correlation after removing outliers\n",
    "df_data_no_outliers[\"Page_Count\"].corr(df_data_no_outliers[\"Lowest_Price_Amazon\"])"
   ]
  },
  {
   "cell_type": "markdown",
   "metadata": {},
   "source": [
    "The dataset without the outliers was replotted."
   ]
  },
  {
   "cell_type": "code",
   "execution_count": 74,
   "metadata": {},
   "outputs": [
    {
     "data": {
      "image/png": "[encoded data removed]",
      "text/plain": [
       "<Figure size 1080x432 with 1 Axes>"
      ]
     },
     "metadata": {
      "needs_background": "light"
     },
     "output_type": "display_data"
    }
   ],
   "source": [
    "X_no_outliers = pages = df_data_no_outliers[\"Page_Count\"]\n",
    "Y_no_outliers = price = df_data_no_outliers[\"Lowest_Price_Amazon\"]\n",
    "\n",
    "plt.figure(\"ro\", figsize=(15,6))\n",
    "plt.title(\"Pages vs Price Plot (Without outliers)\", fontsize = 16)\n",
    "plt.plot(X_no_outliers, Y_no_outliers, 'ro')\n",
    "plt.xlabel('Number of Pages')\n",
    "plt.ylabel('Price of book');\n",
    "\n",
    "#plt.text(0,-60,\"Figure 3: Pages vs Price Plot (Outliers removed)\", fontsize = 15)\n",
    "plt.show()\n",
    "\n"
   ]
  },
  {
   "cell_type": "markdown",
   "metadata": {},
   "source": [
    "Another regression line was fitted on the dataset with outliers removed. \n",
    "\n",
    "The new Beta0 and Beta 1 obtained:"
   ]
  },
  {
   "cell_type": "code",
   "execution_count": 20,
   "metadata": {},
   "outputs": [
    {
     "name": "stdout",
     "output_type": "stream",
     "text": [
      "beta0:  [62.16139144]\n",
      "beta1:  [0.09845031]\n"
     ]
    }
   ],
   "source": [
    "X_no_outliers = np.array(X_no_outliers).reshape(-1, 1)  # values converts it into a numpy array\n",
    "Y_no_outliers = np.array(Y_no_outliers).reshape(-1, 1)  # -1 means that calculate the dimension of rows, but have 1 column\n",
    "\n",
    "\n",
    "X_b_no = np.c_[np.ones((len(df_data_no_outliers), 1)), X_no_outliers] # set bias term to 1 for each sample  \n",
    "regression_params_no_outliers = normal_equation(X_b_no, Y_no_outliers)\n",
    "\n",
    "print(\"beta0: \", regression_params_no_outliers[0])\n",
    "print(\"beta1: \", regression_params_no_outliers[1])"
   ]
  },
  {
   "cell_type": "markdown",
   "metadata": {},
   "source": [
    "The new regression line was plotted with the dataset with outliers removed. "
   ]
  },
  {
   "cell_type": "code",
   "execution_count": 78,
   "metadata": {},
   "outputs": [
    {
     "data": {
      "image/png": "[encoded data removed]",
      "text/plain": [
       "<Figure size 1080x432 with 1 Axes>"
      ]
     },
     "metadata": {
      "needs_background": "light"
     },
     "output_type": "display_data"
    }
   ],
   "source": [
    "Y_pred_no_outliers = regression_predictor(regression_params_no_outliers, X_no_outliers)  # make predictions\n",
    "plt.figure(\"ro\", figsize=(15,6))\n",
    "#plt.scatter(X, Y)\n",
    "plt.title(\"Regression Line for Pages to Price (Outliers removed)\", fontsize = 16)\n",
    "plt.plot(X_no_outliers, Y_no_outliers, 'ro')\n",
    "plt.plot(X_no_outliers, Y_pred_no_outliers, color='blue')\n",
    "plt.xlabel('Number of Pages')\n",
    "plt.ylabel('Price of book')\n",
    "\n",
    "#plt.text(0,-60,\"Figure 4: Regression Line (Without outliers)\", fontsize = 15)\n",
    "plt.text(0,-50,\"y = 0.09x + 62.16\", fontsize = 15);\n",
    "\n",
    "\n",
    "\n",
    "plt.show()"
   ]
  },
  {
   "cell_type": "markdown",
   "metadata": {},
   "source": [
    "Both regression lines were plotted with the data and outliers."
   ]
  },
  {
   "cell_type": "code",
   "execution_count": 83,
   "metadata": {},
   "outputs": [
    {
     "data": {
      "image/png": "[encoded data removed]",
      "text/plain": [
       "<Figure size 1080x720 with 1 Axes>"
      ]
     },
     "metadata": {
      "needs_background": "light"
     },
     "output_type": "display_data"
    }
   ],
   "source": [
    "plt.figure(\"ro\", figsize=(15,10))\n",
    "#plt.scatter(X, Y)\n",
    "plt.title(\"Regression Lines for Pages to Price\", fontsize = 16)\n",
    "\n",
    "X_outlier = outliers[\"Page_Count\"]\n",
    "Y_outlier = outliers[\"Lowest_Price_Amazon\"]\n",
    "\n",
    "plt.plot(X_no_outliers, Y_no_outliers, 'ro', label = \"Dataset\")\n",
    "plt.plot(X_outlier, Y_outlier, \"g^\", label = \"Outliers\")\n",
    "plt.plot(X, Y_pred, color='green', label=\"Regression line With outliers\")\n",
    "plt.plot(X_no_outliers, Y_pred_no_outliers, color='blue', label= \"Regression line with outliers removed\")\n",
    "plt.legend()\n",
    "plt.xlabel('Number of Pages')\n",
    "plt.ylabel('Price of book')\n",
    "#plt.text(0,-125,\"Figure 5: Plot of both regression lines\", fontsize = 15)\n",
    "plt.show()"
   ]
  },
  {
   "cell_type": "markdown",
   "metadata": {},
   "source": [
    "The standard error for the two regression lines are calculated:"
   ]
  },
  {
   "cell_type": "code",
   "execution_count": 23,
   "metadata": {},
   "outputs": [],
   "source": [
    "def standard_error(x_input, y_input, y_pred):\n",
    "    x_mean = np.sum(x_input) / len(x_input)\n",
    "\n",
    "    x_difference_term = 0.0\n",
    "    for i in range(len(x_input)):\n",
    "        x_difference_term += (x_input[i]-x_mean)**2\n",
    "\n",
    "    error_sum = 0.0\n",
    "    for i in range(len(y_input)):\n",
    "        error_sum = (y_input[i] - y_pred[i])**2\n",
    "        \n",
    "    top = error_sum / (len(x_input)-2)\n",
    "    #print(top[0])\n",
    "    #print(x_difference_term[0])\n",
    "    return np.sqrt(top[0]/x_difference_term[0]) #standard error"
   ]
  },
  {
   "cell_type": "code",
   "execution_count": 24,
   "metadata": {},
   "outputs": [
    {
     "name": "stdout",
     "output_type": "stream",
     "text": [
      "Standard Error with all data: 0.0013389410721566062\n",
      "Standard Error with outliers removed 0.0015903289779760391\n"
     ]
    }
   ],
   "source": [
    "SE = standard_error(X, Y, Y_pred)\n",
    "SE_without_outliers = standard_error(X_no_outliers, Y_no_outliers, Y_pred_no_outliers)\n",
    "\n",
    "print(\"Standard Error with all data:\", SE)\n",
    "print(\"Standard Error with outliers removed\", SE_without_outliers)\n",
    "\n"
   ]
  },
  {
   "cell_type": "markdown",
   "metadata": {},
   "source": [
    "The 95% confidence interval for beta1 is determined"
   ]
  },
  {
   "cell_type": "code",
   "execution_count": 85,
   "metadata": {
    "scrolled": true
   },
   "outputs": [
    {
     "name": "stdout",
     "output_type": "stream",
     "text": [
      "t value: 1.984467454426692\n",
      "0.0984503094160129\n",
      "0.003155956098625113\n",
      "The Confidence Interval is:( 0.0952943533173878 , 0.10160626551463801 )\n"
     ]
    }
   ],
   "source": [
    "import scipy.stats as stats\n",
    "\n",
    "dof = len(X_no_outliers) - 2\n",
    "\n",
    "#95% confidence interval for beta1\n",
    "t_n2 = stats.t.ppf(q=0.975,  # Quantile to check\n",
    "            df=dof)  # Degrees of freedom\"\"\"\n",
    "t_n2 = float(t_n2)\n",
    "print(\"t value:\", t_n2)\n",
    "#print(t_n2, type(t_n2)) \n",
    "\n",
    "beta1 = float(regression_params_no_outliers[1])\n",
    "#print(type(beta1))\n",
    "\n",
    "print(beta1)\n",
    "print(t_n2*SE)\n",
    "\n",
    "c_interval_min = beta1 - t_n2*SE\n",
    "c_interval_max = beta1 + t_n2*SE\n",
    "\n",
    "print(\"The Confidence Interval is:(\",c_interval_min, \",\",c_interval_max,\")\")"
   ]
  },
  {
   "cell_type": "markdown",
   "metadata": {},
   "source": [
    "There is a 95% confidence that an increase in one page is associated with a mean increase of between 1 and 10 cents on the book's price.  "
   ]
  },
  {
   "cell_type": "markdown",
   "metadata": {},
   "source": [
    "If there is no relationship between the number of pages in a book and the book's price, beta1 will be equal to zero. \n",
    "\n",
    "A hypothesis test was conducted on beta1 to determine if there is a significant positive association. The values used to calculate beta1 and standard error had the 2 outliers removed to avoid the results being skewed by the outliers. \n",
    "\n",
    "To setup the hypothesis test:\n",
    "\n",
    "    H0: B1 = 0\n",
    "    Ha: B1 =/= 0\n"
   ]
  },
  {
   "cell_type": "code",
   "execution_count": 26,
   "metadata": {},
   "outputs": [
    {
     "name": "stdout",
     "output_type": "stream",
     "text": [
      "Beta1: 0.0984503094160129\n",
      "Standard error: 0.0015903289779760391\n",
      "The t value can be calculated as beta1 divided by the standard error.\n",
      "t value: 61.90562504954633\n",
      "The degree of freedom is: 98\n",
      "T test value: 1.0\n",
      "P value is: 0.0\n",
      "\n",
      "Since the p_value is less than 0.001,\n",
      "H0 is rejected.\n"
     ]
    }
   ],
   "source": [
    "b1 = float(regression_params_no_outliers[1])\n",
    "SE = standard_error(X_no_outliers, Y_no_outliers, Y_pred_no_outliers)\n",
    "\n",
    "print(\"Beta1:\", b1)\n",
    "print(\"Standard error:\", SE)\n",
    "\n",
    "t = b1/SE\n",
    "print(\"The t value can be calculated as beta1 divided by the standard error.\")\n",
    "print(\"t value:\", t)\n",
    "\n",
    "dof = len(X_no_outliers) - 2\n",
    "print(\"The degree of freedom is:\", dof)\n",
    "\n",
    "\"\"\"stats.t.ppf(q=0.025,  # Quantile to check\n",
    "            df=dof)  # Degrees of freedom\n",
    "\n",
    "stats.t.ppf(q=0.975,  # Quantile to check\n",
    "            df=dof)  # Degrees of freedom\"\"\"\n",
    "\n",
    "\n",
    "T_test = stats.t.cdf(x = t,      # T-test statistic\n",
    "               df= dof) \n",
    "      \n",
    "print(\"T test value:\", T_test)\n",
    "           \n",
    "p_value = 2*(1-(T_test))\n",
    "print(\"P value is:\", p_value)\n",
    "print()\n",
    "\n",
    "if (p_value < 0.001):\n",
    "    print(\"Since the p_value is less than 0.001,\")\n",
    "    print (\"H0 is rejected.\")\n",
    "else:\n",
    "    print(\"H0 is accepted. The p_value is greater than 0.001.\")\n",
    "    "
   ]
  },
  {
   "cell_type": "markdown",
   "metadata": {},
   "source": [
    "Based on the hypothesis test on b1, it can be concluded that there is a significant positive association between the number of pages and price of the book."
   ]
  },
  {
   "cell_type": "code",
   "execution_count": null,
   "metadata": {},
   "outputs": [],
   "source": [
    "%%html\n",
    "<style>\n",
    "div.input {\n",
    "    display:none;\n",
    "}\n",
    "</style>\n"
   ]
  },
  {
   "cell_type": "markdown",
   "metadata": {},
   "source": [
    "## References:\n",
    "\n",
    "1) http://reliawiki.org/index.php/Simple_Linear_Regression_Analysis#Fitted_Regression_Line\n",
    "\n",
    "2)\n",
    "http://hamelg.blogspot.com/2015/11/python-for-data-analysis-part-24.html"
   ]
  },
  {
   "cell_type": "code",
   "execution_count": null,
   "metadata": {},
   "outputs": [],
   "source": []
  },
  {
   "cell_type": "code",
   "execution_count": null,
   "metadata": {},
   "outputs": [],
   "source": []
  }
 ],
 "metadata": {
  "kernelspec": {
   "display_name": "Python 3",
   "language": "python",
   "name": "python3"
  },
  "language_info": {
   "codemirror_mode": {
    "name": "ipython",
    "version": 3
   },
   "file_extension": ".py",
   "mimetype": "text/x-python",
   "name": "python",
   "nbconvert_exporter": "python",
   "pygments_lexer": "ipython3",
   "version": "3.6.7"
  }
 },
 "nbformat": 4,
 "nbformat_minor": 2
}
